{
 "cells": [
  {
   "cell_type": "code",
   "execution_count": 202,
   "id": "a86b4a17",
   "metadata": {},
   "outputs": [],
   "source": [
    "import json\n",
    "import pandas as pd\n",
    "import plotly.express as px\n",
    "import plotly.io as pio\n",
    "pio.renderers.default = 'browser'"
   ]
  },
  {
   "cell_type": "markdown",
   "id": "65b2fb6e",
   "metadata": {},
   "source": [
    "Import the geo.json file of European countries"
   ]
  },
  {
   "cell_type": "code",
   "execution_count": 117,
   "id": "0293a744",
   "metadata": {},
   "outputs": [],
   "source": [
    "data = json.load(open('geo-countries/data/countries.geojson','r'))"
   ]
  },
  {
   "cell_type": "code",
   "execution_count": 132,
   "id": "0af5d8cd",
   "metadata": {},
   "outputs": [],
   "source": [
    "#keep only European countries\n",
    "extra_data = pd.read_csv('country-codes.csv')\n",
    "european_countries = []\n",
    "\n",
    "for country in data['features']:\n",
    "    iso = country['properties']['ISO_A3']\n",
    "    if len(extra_data[extra_data['ISO3166-1-Alpha-3'] == iso]) > 0:\n",
    "        continent = extra_data[extra_data['ISO3166-1-Alpha-3'] == iso].iloc[0,-6]\n",
    "        country['id'] = country['properties']['ISO_A2']\n",
    "    \n",
    "    if continent == 'EU':\n",
    "        european_countries.append(country)\n",
    "    "
   ]
  },
  {
   "cell_type": "code",
   "execution_count": 197,
   "id": "4714d1b2",
   "metadata": {},
   "outputs": [],
   "source": [
    "stats = pd.read_csv('stats.csv')\n",
    "stats['id'] = stats.iloc[:,0].apply(lambda x:x[-2:])\n",
    "\n",
    "stats['2015 '] = stats['2015 '].apply(lambda x:x.strip('e: '))"
   ]
  },
  {
   "cell_type": "code",
   "execution_count": null,
   "id": "5d8cb863",
   "metadata": {},
   "outputs": [],
   "source": [
    "fig = px.choropleth(stats,locations = 'id', \n",
    "              geojson = european_countries,\n",
    "             color = '2015 ')\n",
    "fig.show()"
   ]
  }
 ],
 "metadata": {
  "kernelspec": {
   "display_name": "Python 3 (ipykernel)",
   "language": "python",
   "name": "python3"
  },
  "language_info": {
   "codemirror_mode": {
    "name": "ipython",
    "version": 3
   },
   "file_extension": ".py",
   "mimetype": "text/x-python",
   "name": "python",
   "nbconvert_exporter": "python",
   "pygments_lexer": "ipython3",
   "version": "3.9.7"
  }
 },
 "nbformat": 4,
 "nbformat_minor": 5
}
